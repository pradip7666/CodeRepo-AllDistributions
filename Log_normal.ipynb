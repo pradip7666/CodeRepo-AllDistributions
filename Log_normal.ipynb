{
 "cells": [
  {
   "cell_type": "code",
   "execution_count": 71,
   "id": "759a9432",
   "metadata": {},
   "outputs": [],
   "source": [
    "# log normal  Distribution\n",
    "import math\n",
    "from scipy.integrate import quad\n",
    "import pandas as pd\n",
    "import matplotlib.pyplot as plt\n",
    "import numpy as np"
   ]
  },
  {
   "cell_type": "code",
   "execution_count": 72,
   "id": "15c6d822",
   "metadata": {},
   "outputs": [],
   "source": [
    "# function take file path and value seprator\n",
    "def read_Continues_Data(file_path,sep):\n",
    "        file = open(file_path,'r')\n",
    "        input_list =[]\n",
    "        for line in file:\n",
    "            input_list.extend(line.split(sep))\n",
    "            # it use to remove the \\n symbol that newline starts\n",
    "            a  = input_list.pop()\n",
    "            input_list.append(a[:-1])\n",
    "\n",
    "        file.close()\n",
    "        list1 = [round(float(x),3) for x in input_list]\n",
    "        return list1\n",
    "\n",
    "        \n",
    "    \n",
    "# take list of data as input and find the mean\n",
    "def mean_of_data(data):\n",
    "    avg = round(sum(data)/len(data),3)\n",
    "    return avg\n",
    "\n",
    "# finding variance of data\n",
    "def variance_of_data(data,avg):\n",
    "    # variance for sample data (n-1)\n",
    "    # variance = sum([(i-avg)**2 for i in data])/len(data)-1\n",
    "    \n",
    "    # variance of population (n)\n",
    "    variance = sum([(i-avg)**2 for i in data])/len(data)\n",
    "    \n",
    "    return variance\n",
    "\n",
    "# plot the scatter plot to understand the data distribution\n",
    "def scatterPlot(data):\n",
    "    x = np.array(data)\n",
    "    y = x[1:]\n",
    "    x = x[:-1]\n",
    "\n",
    "    plt.scatter(x, y)\n",
    "    plt.show()\n",
    "\n",
    "\n",
    "# Gives the element count in given intervals\n",
    "def frequency(data,l_limit,u_limit):\n",
    "        ele_count = 0\n",
    "        for i in data:\n",
    "            if i>=l_limit and i<u_limit:\n",
    "                ele_count +=1\n",
    "                \n",
    "        return ele_count\n",
    "def freq_for_graph(data,intervals):\n",
    "        min_data = min(data)\n",
    "        max_data = max(data)\n",
    "        interval_size = round((max_data - min_data)/intervals,3)\n",
    "        dic = {}\n",
    "        for i in range(intervals):\n",
    "            min_data = min_data + interval_size\n",
    "            rang = f\"({round(min_data - interval_size,3)}-{round(min_data,3)}]\"\n",
    "            l_limit = min_data - interval_size\n",
    "            u_limit = min_data\n",
    "            dic[rang] = frequency(data,l_limit,u_limit)\n",
    "    \n",
    "        \n",
    "        if(round(u_limit,3) <= max_data):\n",
    "            dic[list(dic.keys())[-1]] += 1 \n",
    "            \n",
    "        \n",
    "        display_Freq(dic)\n",
    "        return dic\n",
    "        \n",
    "\n",
    "def display_Freq(result):\n",
    "        print(\"      Intervals                    Frequncy  \")\n",
    "        print(\"------------------------------------------------------------\")\n",
    "        for (k,v) in result.items():\n",
    "            print(f\"    {k}              {v}     \")\n",
    "            print(\"------------------------------------------------------------\")\n",
    "\n",
    "\n",
    "        print(f\"        Total                   {sum(result.values())}\")\n",
    "        print(\"------------------------------------------------------------\")\n",
    "\n",
    "# plotting the histogram\n",
    "def plot_histogram(dic,intervals):\n",
    "    x = [i for i in range(1,intervals+1)]\n",
    "    y = list(dic.values())\n",
    "    plt.bar(x, y, color='g')\n",
    "    return None\n",
    "    \n",
    "          "
   ]
  },
  {
   "cell_type": "code",
   "execution_count": 73,
   "id": "bca5c192",
   "metadata": {},
   "outputs": [],
   "source": [
    "\n",
    "# templete for all distributions\n",
    "# def find_parameters(avg,var):\n",
    "#     pass\n",
    "#     return ()\n",
    "\n",
    "# gamma distribution parameter estimation\n",
    "def find_log_parameters(avg,var):\n",
    "    \n",
    "    \n",
    "    mew  = round(math.log((avg**2)/math.sqrt(avg**2+var)),3)\n",
    "    sigma_Square = round(math.sqrt(math.log(var+avg**2/avg**2)),3)\n",
    "    \n",
    "    return (mew,sigma_Square)\n",
    " \n",
    "###### frequency table of  Obeserve frequency(Oi),expected Frequency(Ei),(chi-square(Oi-Ei)^2/Ei) ###########################\n",
    "\n",
    "# distribution function\n",
    "def log_normal_distribution(x):\n",
    "#     \"lambda x: (1 / (x * {sigma} * math.sqrt(2 * math.pi))) * math.exp(-((math.log(x) - {mu}) ** 2) / (2 * {sigma ** 2}))\"\n",
    "    pi = math.pi\n",
    "#     d = math.sqrt(2*pi*sigma_square1)\n",
    "# #     m = math.log(x)-meow1\n",
    "    fx =  (1/(x*sigma_square1 * math.sqrt(2*pi)))*math.e**(-((math.log(x)-meow1)**2)/(2*sigma_square1**2))\n",
    "    return fx\n",
    "\n",
    "\n",
    "    \n",
    "# calculating the area under the curve a= lower ,b= higher\n",
    "def area_Under_Curve(func,a,b,n):\n",
    "    # height of each small trepezium\n",
    "    h = abs(b-a)/n\n",
    "    area = 0 # intilization of area as 0\n",
    "    \n",
    "    # calculating and sum of all small-small trapeziums\n",
    "    for i in range(n):\n",
    "        A = a + i * h\n",
    "        B = a + (i + 1) * h\n",
    "        area += (func(A) + func(B)) * h / 2 \n",
    "\n",
    "    return area\n",
    "\n"
   ]
  },
  {
   "cell_type": "code",
   "execution_count": 90,
   "id": "09b9ce7f",
   "metadata": {},
   "outputs": [
    {
     "data": {
      "text/plain": [
       "860"
      ]
     },
     "execution_count": 90,
     "metadata": {},
     "output_type": "execute_result"
    }
   ],
   "source": [
    "import random\n",
    "random.randint(1,1000)"
   ]
  },
  {
   "cell_type": "code",
   "execution_count": 78,
   "id": "cdf82e64",
   "metadata": {},
   "outputs": [],
   "source": [
    "\n",
    "# print the frequency table of given data\n",
    "def frequency_table(data,intervals):\n",
    "    \n",
    "        min_data = 0.001   \n",
    "        max_data = max(data)\n",
    "        \n",
    "        interval_size = round((max_data - min_data)/intervals,3)\n",
    "#         dic = {}\n",
    "        Freq_table = []\n",
    "        \n",
    "        for i in range(intervals):\n",
    "            min_data = min_data + interval_size\n",
    "            \n",
    "#             rang = f\"({round(min_data - interval_size,3)} - {round(min_data,3)}]\"\n",
    "            \n",
    "            l_limit = round(min_data - interval_size,3)\n",
    "            u_limit = round(min_data,3)\n",
    "            \n",
    "            # frequency function gives the number of elements in given range \n",
    "            Oi = frequency(data,l_limit,u_limit)\n",
    "            \n",
    "            # function gives the area of given interval on given probability function\n",
    "            area = area_Under_Curve(log_normal_distribution,l_limit,u_limit,10000)\n",
    "            \n",
    "            # Expected values for given interval\n",
    "            Ei = area * len(data)\n",
    "            \n",
    "            # putting the Oi ,Ei,area,(Oi-Ei)^2/Ei, l_limit,u_limit\n",
    "            Freq_table.append([Oi,Ei,area,(((Oi-Ei)**2)/Ei),l_limit,u_limit])\n",
    "#             dic[rang] =[Oi,Ei,area,(((Oi-Ei)**2)/Ei),l_limit,u_limit]\n",
    "    \n",
    "        \n",
    "        if(round(u_limit,3) <= max_data):\n",
    "            for i in data :\n",
    "                if i >= Freq_table[-1][-1]:  \n",
    "                    Freq_table[-1][0] += 1\n",
    "#             print(\"sum : \",sum([i[0] for i in Freq_table]))\n",
    "        \n",
    "            \n",
    "        display(Freq_table)\n",
    "        return Freq_table\n",
    "\n",
    "\n",
    "# prints the frequency table\n",
    "def display(result):\n",
    "        print(\"      Intervals \\t Frequncy_Oi \\t expected Ei \\t\\t\\t area  \\t\\t\\t\\t(Oi-Ei)^2/Ei  \")\n",
    "       \n",
    "        for item in result:\n",
    "            print(f\"    {item[-2]}-{item[-1]}\\t\\t{item[0]}\\t\\t{item[1]}\\t\\t{item[2]}\\t\\t{item[3]}    \")\n",
    "            \n",
    "        total_observations = sum([result[i][0] for i in range(len(result))])\n",
    "        total_expected =  sum([result[i][1] for i in range(len(result))])\n",
    "        total_area =  sum([result[i][2] for i in range(len(result))])\n",
    "        summation_chi_square = sum([result[i][3] for i in range(len(result))])\n",
    "        \n",
    "       \n",
    "        print(\"---------------------------------------------------------------------------------------------------------------------------\")\n",
    "        print(f\"      Total \\t\\t  {total_observations}\\t\\t\\t{total_expected}\\t\\t\\t{total_area}\\t\\t\\t{summation_chi_square}    \")\n",
    "\n",
    "\n"
   ]
  },
  {
   "cell_type": "code",
   "execution_count": 79,
   "id": "4b948277",
   "metadata": {},
   "outputs": [],
   "source": [
    "\n",
    "# merge the intervals on the given threshold frequency\n",
    "\n",
    "def merge_chi_intervals(chi_data, threshold):\n",
    "    merged_intervals = []\n",
    "    current_interval = None\n",
    "    current_freq_sum = 0\n",
    "    current_expected_freq_sum = 0\n",
    "    current_area = 0\n",
    "#     current_chi_values = 0\n",
    "\n",
    "    for interval_data in chi_data:\n",
    "        freq, expected_freq,area,chi_values,lower_bound, upper_bound = interval_data\n",
    "        if expected_freq < threshold:\n",
    "            if current_interval is None:\n",
    "                current_interval = (lower_bound, upper_bound)\n",
    "                current_freq_sum = freq\n",
    "                current_expected_freq_sum = expected_freq\n",
    "                current_area = area\n",
    "#                 current_chi_values = chi_values\n",
    "            else:\n",
    "                current_interval = (current_interval[0], upper_bound)\n",
    "                current_freq_sum += freq\n",
    "                current_expected_freq_sum += expected_freq\n",
    "                current_area += area\n",
    "#                 current_chi_values += chi_values\n",
    "        else:\n",
    "            if current_interval is not None:\n",
    "                merged_intervals.append([current_freq_sum, current_expected_freq_sum,current_area,(((current_freq_sum - current_expected_freq_sum)**2)/current_expected_freq_sum),current_interval[0], current_interval[1]])\n",
    "                current_interval = None\n",
    "                current_freq_sum = 0\n",
    "                current_expected_freq_sum = 0\n",
    "                current_area = 0\n",
    "#                 current_chi_values = 0\n",
    "            merged_intervals.append([ freq, expected_freq,area,(((freq-expected_freq)**2)/expected_freq),lower_bound, upper_bound])\n",
    "\n",
    "    if current_interval is not None:\n",
    "        merged_intervals.append([ current_freq_sum, current_expected_freq_sum,current_area,(((current_freq_sum - current_expected_freq_sum)**2)/current_expected_freq_sum),current_interval[0], current_interval[1]])\n",
    "\n",
    "    return merged_intervals\n"
   ]
  },
  {
   "cell_type": "code",
   "execution_count": 80,
   "id": "59747605",
   "metadata": {},
   "outputs": [
    {
     "name": "stdout",
     "output_type": "stream",
     "text": [
      "Enter file path : data/n7.csv\n",
      "Enter file Separator :  ,\n",
      "0\n",
      "Minimum of data :   -1.286\n",
      "Maximum of data :   11.923\n",
      "mean :  5.128\n",
      "variance :  4.177749128000001\n"
     ]
    },
    {
     "data": {
      "image/png": "[encoded data removed]",
      "text/plain": [
       "<Figure size 640x480 with 1 Axes>"
      ]
     },
     "metadata": {},
     "output_type": "display_data"
    },
    {
     "name": "stdout",
     "output_type": "stream",
     "text": [
      "Enter number of intervals : 10\n",
      "      Intervals                    Frequncy  \n",
      "------------------------------------------------------------\n",
      "    (-1.286-0.035]              3     \n",
      "------------------------------------------------------------\n",
      "    (0.035-1.356]              16     \n",
      "------------------------------------------------------------\n",
      "    (1.356-2.677]              39     \n",
      "------------------------------------------------------------\n",
      "    (2.677-3.998]              82     \n",
      "------------------------------------------------------------\n",
      "    (3.998-5.319]              127     \n",
      "------------------------------------------------------------\n",
      "    (5.319-6.64]              116     \n",
      "------------------------------------------------------------\n",
      "    (6.64-7.961]              72     \n",
      "------------------------------------------------------------\n",
      "    (7.961-9.282]              37     \n",
      "------------------------------------------------------------\n",
      "    (9.282-10.603]              7     \n",
      "------------------------------------------------------------\n",
      "    (10.603-11.924]              1     \n",
      "------------------------------------------------------------\n",
      "        Total                   500\n",
      "------------------------------------------------------------\n"
     ]
    },
    {
     "data": {
      "image/png": "[encoded data removed]",
      "text/plain": [
       "<Figure size 640x480 with 1 Axes>"
      ]
     },
     "metadata": {},
     "output_type": "display_data"
    }
   ],
   "source": [
    "file_path = input(\"Enter file path : \")\n",
    "sep = input(\"Enter file Separator :  \")\n",
    "\n",
    "# step 1 :- Read the data from file\n",
    "data = read_Continues_Data(file_path,sep)\n",
    "print(data.count(20.003))\n",
    "# min of data\n",
    "min_of_data = min(data)\n",
    "print(\"Minimum of data :  \" , min_of_data)\n",
    "\n",
    "# Max of data\n",
    "max_of_data = max(data)\n",
    "print(\"Maximum of data :  \", max_of_data)\n",
    "\n",
    "# step 2 :- find the Mean and Variance of data\n",
    "mean = mean_of_data(data)\n",
    "print(\"mean : \" , mean)\n",
    "\n",
    "variance = variance_of_data(data,mean)\n",
    "print(\"variance : \",variance)\n",
    "\n",
    "\n",
    "# data Visualization \n",
    "# 1 . scatter Graph\n",
    "scatterPlot(data)\n",
    "\n",
    "# Number of intervals\n",
    "intervals = int(input(\"Enter number of intervals : \"))\n",
    "\n",
    "# 2. draw bar Graph\n",
    "dic1 = freq_for_graph(data,intervals)\n",
    "plot_histogram(dic1,intervals)\n"
   ]
  },
  {
   "cell_type": "code",
   "execution_count": 70,
   "id": "43ddb7e8",
   "metadata": {
    "scrolled": true
   },
   "outputs": [
    {
     "name": "stdout",
     "output_type": "stream",
     "text": [
      "\n",
      "meow1  :  1.561\n",
      "sigma_square1 :  1.282\n"
     ]
    },
    {
     "ename": "ZeroDivisionError",
     "evalue": "float division by zero",
     "output_type": "error",
     "traceback": [
      "\u001b[1;31m---------------------------------------------------------------------------\u001b[0m",
      "\u001b[1;31mZeroDivisionError\u001b[0m                         Traceback (most recent call last)",
      "Cell \u001b[1;32mIn[70], line 11\u001b[0m\n\u001b[0;32m      7\u001b[0m \u001b[38;5;28mprint\u001b[39m(\u001b[38;5;124m\"\u001b[39m\u001b[38;5;124msigma_square1 : \u001b[39m\u001b[38;5;124m\"\u001b[39m,sigma_square1)\n\u001b[0;32m     10\u001b[0m \u001b[38;5;66;03m# step 4  :- Create frequecy table\u001b[39;00m\n\u001b[1;32m---> 11\u001b[0m frequency_Table \u001b[38;5;241m=\u001b[39m frequency_table(data,intervals)\n\u001b[0;32m     13\u001b[0m \u001b[38;5;66;03m# step 5  :-  merge the intervals on given threshold \u001b[39;00m\n\u001b[0;32m     14\u001b[0m threshold_frequency \u001b[38;5;241m=\u001b[39m \u001b[38;5;241m5\u001b[39m \n",
      "Cell \u001b[1;32mIn[67], line 23\u001b[0m, in \u001b[0;36mfrequency_table\u001b[1;34m(data, intervals)\u001b[0m\n\u001b[0;32m     20\u001b[0m Oi \u001b[38;5;241m=\u001b[39m frequency(data,l_limit,u_limit)\n\u001b[0;32m     22\u001b[0m \u001b[38;5;66;03m# function gives the area of given interval on given probability function\u001b[39;00m\n\u001b[1;32m---> 23\u001b[0m area \u001b[38;5;241m=\u001b[39m area_Under_Curve(log_normal_distribution,l_limit,u_limit,\u001b[38;5;241m10000\u001b[39m)\n\u001b[0;32m     25\u001b[0m \u001b[38;5;66;03m# Expected values for given interval\u001b[39;00m\n\u001b[0;32m     26\u001b[0m Ei \u001b[38;5;241m=\u001b[39m area \u001b[38;5;241m*\u001b[39m \u001b[38;5;28mlen\u001b[39m(data)\n",
      "Cell \u001b[1;32mIn[61], line 38\u001b[0m, in \u001b[0;36marea_Under_Curve\u001b[1;34m(func, a, b, n)\u001b[0m\n\u001b[0;32m     36\u001b[0m     A \u001b[38;5;241m=\u001b[39m a \u001b[38;5;241m+\u001b[39m i \u001b[38;5;241m*\u001b[39m h\n\u001b[0;32m     37\u001b[0m     B \u001b[38;5;241m=\u001b[39m a \u001b[38;5;241m+\u001b[39m (i \u001b[38;5;241m+\u001b[39m \u001b[38;5;241m1\u001b[39m) \u001b[38;5;241m*\u001b[39m h\n\u001b[1;32m---> 38\u001b[0m     area \u001b[38;5;241m+\u001b[39m\u001b[38;5;241m=\u001b[39m (func(A) \u001b[38;5;241m+\u001b[39m func(B)) \u001b[38;5;241m*\u001b[39m h \u001b[38;5;241m/\u001b[39m \u001b[38;5;241m2\u001b[39m \n\u001b[0;32m     40\u001b[0m \u001b[38;5;28;01mreturn\u001b[39;00m area\n",
      "Cell \u001b[1;32mIn[61], line 23\u001b[0m, in \u001b[0;36mlog_normal_distribution\u001b[1;34m(x)\u001b[0m\n\u001b[0;32m     20\u001b[0m     pi \u001b[38;5;241m=\u001b[39m math\u001b[38;5;241m.\u001b[39mpi\n\u001b[0;32m     21\u001b[0m \u001b[38;5;66;03m#     d = math.sqrt(2*pi*sigma_square1)\u001b[39;00m\n\u001b[0;32m     22\u001b[0m \u001b[38;5;66;03m# #     m = math.log(x)-meow1\u001b[39;00m\n\u001b[1;32m---> 23\u001b[0m     fx \u001b[38;5;241m=\u001b[39m  (\u001b[38;5;241m1\u001b[39m\u001b[38;5;241m/\u001b[39m(x\u001b[38;5;241m*\u001b[39msigma_square1 \u001b[38;5;241m*\u001b[39m math\u001b[38;5;241m.\u001b[39msqrt(\u001b[38;5;241m2\u001b[39m\u001b[38;5;241m*\u001b[39mpi)))\u001b[38;5;241m*\u001b[39mmath\u001b[38;5;241m.\u001b[39me\u001b[38;5;241m*\u001b[39m\u001b[38;5;241m*\u001b[39m(\u001b[38;5;241m-\u001b[39m((math\u001b[38;5;241m.\u001b[39mlog(x)\u001b[38;5;241m-\u001b[39mmeow1)\u001b[38;5;241m*\u001b[39m\u001b[38;5;241m*\u001b[39m\u001b[38;5;241m2\u001b[39m)\u001b[38;5;241m/\u001b[39m(\u001b[38;5;241m2\u001b[39m\u001b[38;5;241m*\u001b[39msigma_square1\u001b[38;5;241m*\u001b[39m\u001b[38;5;241m*\u001b[39m\u001b[38;5;241m2\u001b[39m))\n\u001b[0;32m     24\u001b[0m     \u001b[38;5;28;01mreturn\u001b[39;00m fx\n",
      "\u001b[1;31mZeroDivisionError\u001b[0m: float division by zero"
     ]
    }
   ],
   "source": [
    "\n",
    "# step 3 :- find out the parameter values\n",
    "#x,y = find_parameters(mean,variance)\n",
    "meow1,sigma_square1 =find_log_parameters(mean,variance)\n",
    "no_parameters = 2\n",
    "print(\"\")\n",
    "print(\"meow1  : \",meow1) # \n",
    "print(\"sigma_square1 : \",sigma_square1)\n",
    "\n",
    "\n",
    "# step 4  :- Create frequecy table\n",
    "frequency_Table = frequency_table(data,intervals)\n",
    "\n",
    "# step 5  :-  merge the intervals on given threshold \n",
    "threshold_frequency = 5 \n",
    "merge_intervals_table = merge_chi_intervals(frequency_Table,threshold_frequency)\n",
    "print(\"\")\n",
    "print(\"###########################################################################################################################\",sep=\"\\n\\n\")\n",
    "print(\"After merging intervals : \")\n",
    "display(merge_intervals_table)\n",
    "print(\"\")\n",
    "\n",
    "# Calculate the degree of freedom  formula : No_of_intervals - No_of_parameters -1\n",
    "No_of_intervals = len(merge_intervals_table)\n",
    "degree_of_freedom = No_of_intervals - no_parameters - 1\n",
    "significance_level=0.05\n",
    "print(\"Degree of freedom : \",degree_of_freedom)\n",
    "\n",
    "# calculate chi_squre_value\n",
    "chi_square_value = sum([merge_intervals_table[i][3] for i in range(len(merge_intervals_table))])\n",
    "print(\"Chi-Square value : \",chi_square_value)\n",
    "\n",
    "# chi_square value in table on given significate level\n",
    "chi_square_value_in_table = 11.070\n",
    "print(\"chi-Square value in table : \",chi_square_value_in_table)\n",
    "\n",
    "if chi_square_value <= chi_square_value_in_table:\n",
    "   print(\"Given data follows the Log Normal distribution\")\n",
    "else:\n",
    "   print(\"Given data doesn't follow the Log Normal distribution\")\n"
   ]
  },
  {
   "cell_type": "code",
   "execution_count": null,
   "id": "3feece82",
   "metadata": {},
   "outputs": [],
   "source": []
  },
  {
   "cell_type": "code",
   "execution_count": 6,
   "id": "6c193ec5",
   "metadata": {},
   "outputs": [
    {
     "ename": "TypeError",
     "evalue": "descriptor 'beta' for 'numpy.random._generator.Generator' objects doesn't apply to a 'float' object",
     "output_type": "error",
     "traceback": [
      "\u001b[1;31m---------------------------------------------------------------------------\u001b[0m",
      "\u001b[1;31mTypeError\u001b[0m                                 Traceback (most recent call last)",
      "Cell \u001b[1;32mIn[6], line 2\u001b[0m\n\u001b[0;32m      1\u001b[0m \u001b[38;5;28;01mimport\u001b[39;00m \u001b[38;5;21;01mnumpy\u001b[39;00m \u001b[38;5;28;01mas\u001b[39;00m \u001b[38;5;21;01mnp\u001b[39;00m\n\u001b[1;32m----> 2\u001b[0m np\u001b[38;5;241m.\u001b[39mrandom\u001b[38;5;241m.\u001b[39mGenerator\u001b[38;5;241m.\u001b[39mbeta(\u001b[38;5;241m5.0\u001b[39m, \u001b[38;5;241m2.0\u001b[39m, size\u001b[38;5;241m=\u001b[39m\u001b[38;5;241m2000\u001b[39m)\n",
      "\u001b[1;31mTypeError\u001b[0m: descriptor 'beta' for 'numpy.random._generator.Generator' objects doesn't apply to a 'float' object"
     ]
    }
   ],
   "source": [
    "import numpy as np\n",
    "np.random.Generator.beta(5.0, 2.0, size=2000)"
   ]
  },
  {
   "cell_type": "code",
   "execution_count": 12,
   "id": "e615856e",
   "metadata": {},
   "outputs": [
    {
     "data": {
      "image/png": "[encoded data removed]",
      "text/plain": [
       "<Figure size 640x480 with 1 Axes>"
      ]
     },
     "metadata": {},
     "output_type": "display_data"
    }
   ],
   "source": [
    "import numpy as np\n",
    "import matplotlib.pyplot as plt\n",
    "\n",
    "# Define shape parameters (alpha and beta)\n",
    "alpha = 5\n",
    "beta = 3\n",
    "\n",
    "# Generate random samples from the beta distribution\n",
    "samples = np.random.beta(alpha, beta, size=1000)\n",
    "\n",
    "# Create a histogram to visualize the distribution\n",
    "plt.hist(samples, bins=30, density=True, alpha=0.6, color='blue', edgecolor='black')\n",
    "\n",
    "# Plot the beta distribution curve\n",
    "x = np.linspace(0, 1, 5000)\n",
    "y = np.power(x, alpha - 1) * np.power(1 - x, beta - 1)\n",
    "plt.plot(x, y, 'r-', lw=2, label=f'Beta({alpha}, {beta})')\n",
    "\n",
    "# Customize the plot\n",
    "plt.xlabel('x')\n",
    "plt.ylabel('Density')\n",
    "plt.title('Beta Distribution')\n",
    "plt.legend()\n",
    "\n",
    "# Show the plot\n",
    "plt.show()\n"
   ]
  },
  {
   "cell_type": "code",
   "execution_count": null,
   "id": "eef0905c",
   "metadata": {},
   "outputs": [],
   "source": [
    "d = []\n",
    "i=0\n",
    "while(i<10000):\n",
    "    n = random.randint(1,1000)\n",
    "    d.append(n)\n"
   ]
  },
  {
   "cell_type": "code",
   "execution_count": 92,
   "id": "cc71ff6e",
   "metadata": {},
   "outputs": [
    {
     "data": {
      "text/plain": [
       "1"
      ]
     },
     "execution_count": 92,
     "metadata": {},
     "output_type": "execute_result"
    }
   ],
   "source": [
    "random.randint(1,2)"
   ]
  },
  {
   "cell_type": "code",
   "execution_count": null,
   "id": "b5b92eb8",
   "metadata": {},
   "outputs": [],
   "source": []
  },
  {
   "cell_type": "code",
   "execution_count": null,
   "id": "3216e54d",
   "metadata": {},
   "outputs": [],
   "source": []
  }
 ],
 "metadata": {
  "kernelspec": {
   "display_name": "Python 3 (ipykernel)",
   "language": "python",
   "name": "python3"
  },
  "language_info": {
   "codemirror_mode": {
    "name": "ipython",
    "version": 3
   },
   "file_extension": ".py",
   "mimetype": "text/x-python",
   "name": "python",
   "nbconvert_exporter": "python",
   "pygments_lexer": "ipython3",
   "version": "3.11.4"
  }
 },
 "nbformat": 4,
 "nbformat_minor": 5
}
